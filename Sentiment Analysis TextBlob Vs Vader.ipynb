{
 "cells": [
  {
   "cell_type": "code",
   "execution_count": 36,
   "metadata": {},
   "outputs": [
    {
     "name": "stdout",
     "output_type": "stream",
     "text": [
      "   Movie_ID                                             Review Sentiment  Rate\n",
      "0         0   dune is a great book and it along with its se...  Positive     7\n",
      "1         2   having read the book a hundred years ago it t...  Positive     8\n",
      "2         3   it is not a simple film but an adaptation of ...  Positive     6\n",
      "3         6   its been amazing being back in cinemas after ...  Positive    10\n",
      "4         7   i just reviewed the  movie  based on the same...  Positive     9\n"
     ]
    }
   ],
   "source": [
    "import pandas as pd\n",
    "import numpy as np\n",
    "import matplotlib.pyplot as plt\n",
    "from nltk.corpus import stopwords\n",
    "from nltk.tokenize import word_tokenize\n",
    "from sklearn.feature_extraction.text import CountVectorizer\n",
    "from sklearn.linear_model import LogisticRegression\n",
    "from sklearn.metrics import accuracy_score\n",
    "from sklearn.model_selection import train_test_split\n",
    "from sklearn.neighbors import KNeighborsClassifier\n",
    "from sklearn.naive_bayes import MultinomialNB\n",
    "\n",
    "df = pd.read_csv('data\\cleaned_movie_dat_Dune1.csv')\n",
    "df.drop(columns=[\"Unnamed: 0\"],inplace=True)\n",
    "print(df.head(5))"
   ]
  },
  {
   "cell_type": "code",
   "execution_count": 37,
   "metadata": {},
   "outputs": [
    {
     "name": "stderr",
     "output_type": "stream",
     "text": [
      "[nltk_data] Downloading package vader_lexicon to\n",
      "[nltk_data]     C:\\Users\\Jagakala\\AppData\\Roaming\\nltk_data...\n",
      "[nltk_data]   Package vader_lexicon is already up-to-date!\n"
     ]
    }
   ],
   "source": [
    "import nltk\n",
    "nltk.download('vader_lexicon')\n",
    "from nltk.sentiment.vader import SentimentIntensityAnalyzer\n",
    "sid = SentimentIntensityAnalyzer()"
   ]
  },
  {
   "cell_type": "code",
   "execution_count": 41,
   "metadata": {},
   "outputs": [
    {
     "data": {
      "text/html": [
       "<div>\n",
       "<style scoped>\n",
       "    .dataframe tbody tr th:only-of-type {\n",
       "        vertical-align: middle;\n",
       "    }\n",
       "\n",
       "    .dataframe tbody tr th {\n",
       "        vertical-align: top;\n",
       "    }\n",
       "\n",
       "    .dataframe thead th {\n",
       "        text-align: right;\n",
       "    }\n",
       "</style>\n",
       "<table border=\"1\" class=\"dataframe\">\n",
       "  <thead>\n",
       "    <tr style=\"text-align: right;\">\n",
       "      <th></th>\n",
       "      <th>Movie_ID</th>\n",
       "      <th>Review</th>\n",
       "      <th>Sentiment</th>\n",
       "      <th>Rate</th>\n",
       "      <th>scores</th>\n",
       "      <th>compound</th>\n",
       "      <th>SentimentType</th>\n",
       "    </tr>\n",
       "  </thead>\n",
       "  <tbody>\n",
       "    <tr>\n",
       "      <th>0</th>\n",
       "      <td>0</td>\n",
       "      <td>dune is a great book and it along with its se...</td>\n",
       "      <td>Positive</td>\n",
       "      <td>7</td>\n",
       "      <td>{'neg': 0.082, 'neu': 0.833, 'pos': 0.085, 'co...</td>\n",
       "      <td>0.7254</td>\n",
       "      <td>Positive</td>\n",
       "    </tr>\n",
       "    <tr>\n",
       "      <th>1</th>\n",
       "      <td>2</td>\n",
       "      <td>having read the book a hundred years ago it t...</td>\n",
       "      <td>Positive</td>\n",
       "      <td>8</td>\n",
       "      <td>{'neg': 0.027, 'neu': 0.801, 'pos': 0.172, 'co...</td>\n",
       "      <td>0.9728</td>\n",
       "      <td>Positive</td>\n",
       "    </tr>\n",
       "    <tr>\n",
       "      <th>2</th>\n",
       "      <td>3</td>\n",
       "      <td>it is not a simple film but an adaptation of ...</td>\n",
       "      <td>Positive</td>\n",
       "      <td>6</td>\n",
       "      <td>{'neg': 0.056, 'neu': 0.646, 'pos': 0.297, 'co...</td>\n",
       "      <td>0.9957</td>\n",
       "      <td>Positive</td>\n",
       "    </tr>\n",
       "    <tr>\n",
       "      <th>3</th>\n",
       "      <td>6</td>\n",
       "      <td>its been amazing being back in cinemas after ...</td>\n",
       "      <td>Positive</td>\n",
       "      <td>10</td>\n",
       "      <td>{'neg': 0.043, 'neu': 0.763, 'pos': 0.194, 'co...</td>\n",
       "      <td>0.9774</td>\n",
       "      <td>Positive</td>\n",
       "    </tr>\n",
       "    <tr>\n",
       "      <th>4</th>\n",
       "      <td>7</td>\n",
       "      <td>i just reviewed the  movie  based on the same...</td>\n",
       "      <td>Positive</td>\n",
       "      <td>9</td>\n",
       "      <td>{'neg': 0.041, 'neu': 0.774, 'pos': 0.185, 'co...</td>\n",
       "      <td>0.9975</td>\n",
       "      <td>Positive</td>\n",
       "    </tr>\n",
       "  </tbody>\n",
       "</table>\n",
       "</div>"
      ],
      "text/plain": [
       "   Movie_ID                                             Review Sentiment  \\\n",
       "0         0   dune is a great book and it along with its se...  Positive   \n",
       "1         2   having read the book a hundred years ago it t...  Positive   \n",
       "2         3   it is not a simple film but an adaptation of ...  Positive   \n",
       "3         6   its been amazing being back in cinemas after ...  Positive   \n",
       "4         7   i just reviewed the  movie  based on the same...  Positive   \n",
       "\n",
       "   Rate                                             scores  compound  \\\n",
       "0     7  {'neg': 0.082, 'neu': 0.833, 'pos': 0.085, 'co...    0.7254   \n",
       "1     8  {'neg': 0.027, 'neu': 0.801, 'pos': 0.172, 'co...    0.9728   \n",
       "2     6  {'neg': 0.056, 'neu': 0.646, 'pos': 0.297, 'co...    0.9957   \n",
       "3    10  {'neg': 0.043, 'neu': 0.763, 'pos': 0.194, 'co...    0.9774   \n",
       "4     9  {'neg': 0.041, 'neu': 0.774, 'pos': 0.185, 'co...    0.9975   \n",
       "\n",
       "  SentimentType  \n",
       "0      Positive  \n",
       "1      Positive  \n",
       "2      Positive  \n",
       "3      Positive  \n",
       "4      Positive  "
      ]
     },
     "execution_count": 41,
     "metadata": {},
     "output_type": "execute_result"
    }
   ],
   "source": [
    "df['scores'] = df['Review'].apply(lambda Review: sid.polarity_scores(str(Review)))\n",
    "df.head()"
   ]
  },
  {
   "cell_type": "code",
   "execution_count": 42,
   "metadata": {},
   "outputs": [
    {
     "data": {
      "text/html": [
       "<div>\n",
       "<style scoped>\n",
       "    .dataframe tbody tr th:only-of-type {\n",
       "        vertical-align: middle;\n",
       "    }\n",
       "\n",
       "    .dataframe tbody tr th {\n",
       "        vertical-align: top;\n",
       "    }\n",
       "\n",
       "    .dataframe thead th {\n",
       "        text-align: right;\n",
       "    }\n",
       "</style>\n",
       "<table border=\"1\" class=\"dataframe\">\n",
       "  <thead>\n",
       "    <tr style=\"text-align: right;\">\n",
       "      <th></th>\n",
       "      <th>Movie_ID</th>\n",
       "      <th>Review</th>\n",
       "      <th>Sentiment</th>\n",
       "      <th>Rate</th>\n",
       "      <th>scores</th>\n",
       "      <th>compound</th>\n",
       "      <th>SentimentType</th>\n",
       "    </tr>\n",
       "  </thead>\n",
       "  <tbody>\n",
       "    <tr>\n",
       "      <th>0</th>\n",
       "      <td>0</td>\n",
       "      <td>dune is a great book and it along with its se...</td>\n",
       "      <td>Positive</td>\n",
       "      <td>7</td>\n",
       "      <td>{'neg': 0.082, 'neu': 0.833, 'pos': 0.085, 'co...</td>\n",
       "      <td>0.7254</td>\n",
       "      <td>Positive</td>\n",
       "    </tr>\n",
       "    <tr>\n",
       "      <th>1</th>\n",
       "      <td>2</td>\n",
       "      <td>having read the book a hundred years ago it t...</td>\n",
       "      <td>Positive</td>\n",
       "      <td>8</td>\n",
       "      <td>{'neg': 0.027, 'neu': 0.801, 'pos': 0.172, 'co...</td>\n",
       "      <td>0.9728</td>\n",
       "      <td>Positive</td>\n",
       "    </tr>\n",
       "    <tr>\n",
       "      <th>2</th>\n",
       "      <td>3</td>\n",
       "      <td>it is not a simple film but an adaptation of ...</td>\n",
       "      <td>Positive</td>\n",
       "      <td>6</td>\n",
       "      <td>{'neg': 0.056, 'neu': 0.646, 'pos': 0.297, 'co...</td>\n",
       "      <td>0.9957</td>\n",
       "      <td>Positive</td>\n",
       "    </tr>\n",
       "    <tr>\n",
       "      <th>3</th>\n",
       "      <td>6</td>\n",
       "      <td>its been amazing being back in cinemas after ...</td>\n",
       "      <td>Positive</td>\n",
       "      <td>10</td>\n",
       "      <td>{'neg': 0.043, 'neu': 0.763, 'pos': 0.194, 'co...</td>\n",
       "      <td>0.9774</td>\n",
       "      <td>Positive</td>\n",
       "    </tr>\n",
       "    <tr>\n",
       "      <th>4</th>\n",
       "      <td>7</td>\n",
       "      <td>i just reviewed the  movie  based on the same...</td>\n",
       "      <td>Positive</td>\n",
       "      <td>9</td>\n",
       "      <td>{'neg': 0.041, 'neu': 0.774, 'pos': 0.185, 'co...</td>\n",
       "      <td>0.9975</td>\n",
       "      <td>Positive</td>\n",
       "    </tr>\n",
       "  </tbody>\n",
       "</table>\n",
       "</div>"
      ],
      "text/plain": [
       "   Movie_ID                                             Review Sentiment  \\\n",
       "0         0   dune is a great book and it along with its se...  Positive   \n",
       "1         2   having read the book a hundred years ago it t...  Positive   \n",
       "2         3   it is not a simple film but an adaptation of ...  Positive   \n",
       "3         6   its been amazing being back in cinemas after ...  Positive   \n",
       "4         7   i just reviewed the  movie  based on the same...  Positive   \n",
       "\n",
       "   Rate                                             scores  compound  \\\n",
       "0     7  {'neg': 0.082, 'neu': 0.833, 'pos': 0.085, 'co...    0.7254   \n",
       "1     8  {'neg': 0.027, 'neu': 0.801, 'pos': 0.172, 'co...    0.9728   \n",
       "2     6  {'neg': 0.056, 'neu': 0.646, 'pos': 0.297, 'co...    0.9957   \n",
       "3    10  {'neg': 0.043, 'neu': 0.763, 'pos': 0.194, 'co...    0.9774   \n",
       "4     9  {'neg': 0.041, 'neu': 0.774, 'pos': 0.185, 'co...    0.9975   \n",
       "\n",
       "  SentimentType  \n",
       "0      Positive  \n",
       "1      Positive  \n",
       "2      Positive  \n",
       "3      Positive  \n",
       "4      Positive  "
      ]
     },
     "execution_count": 42,
     "metadata": {},
     "output_type": "execute_result"
    }
   ],
   "source": [
    "df['compound'] = df['scores'].apply(lambda score_dict: score_dict['compound'])\n",
    "df['SentimentType']=''\n",
    "df.loc[df['compound'] > 0,'SentimentType'] = 'Positive'\n",
    "df.loc[df['compound'] < 0,'SentimentType'] = 'Negative'\n",
    "df.loc[df['compound'] == 0,'SentimentType'] = 'Neutral'\n",
    "df.head()"
   ]
  },
  {
   "cell_type": "code",
   "execution_count": 43,
   "metadata": {},
   "outputs": [
    {
     "data": {
      "text/plain": [
       "<matplotlib.axes._subplots.AxesSubplot at 0x2099e5a9550>"
      ]
     },
     "execution_count": 43,
     "metadata": {},
     "output_type": "execute_result"
    },
    {
     "data": {
      "image/png": "[encoded data removed]",
      "text/plain": [
       "<Figure size 432x288 with 1 Axes>"
      ]
     },
     "metadata": {},
     "output_type": "display_data"
    }
   ],
   "source": [
    "df.SentimentType.value_counts().plot(kind='bar',title=\"Sentiment analysis-Vader\")"
   ]
  },
  {
   "cell_type": "code",
   "execution_count": 15,
   "metadata": {},
   "outputs": [
    {
     "data": {
      "text/plain": [
       "    2636\n",
       "Name: sentiment_type, dtype: int64"
      ]
     },
     "execution_count": 15,
     "metadata": {},
     "output_type": "execute_result"
    }
   ],
   "source": [
    "df.sentiment_type.value_counts()"
   ]
  },
  {
   "cell_type": "code",
   "execution_count": 44,
   "metadata": {},
   "outputs": [
    {
     "name": "stdout",
     "output_type": "stream",
     "text": [
      "   Movie_ID                                             Review Sentiment  Rate\n",
      "0         0   dune is a great book and it along with its se...  Positive     7\n",
      "1         2   having read the book a hundred years ago it t...  Positive     8\n",
      "2         3   it is not a simple film but an adaptation of ...  Positive     6\n",
      "3         6   its been amazing being back in cinemas after ...  Positive    10\n",
      "4         7   i just reviewed the  movie  based on the same...  Positive     9\n"
     ]
    }
   ],
   "source": [
    "df = pd.read_csv('data\\cleaned_movie_dat_Dune1.csv')\n",
    "df.drop(columns=[\"Unnamed: 0\"],inplace=True)\n",
    "print(df.head(5))\n",
    "#Textblob Analysis\n",
    "from textblob import TextBlob\n",
    "bloblist_desc = list()\n",
    "df_review_str=df['Review'].astype(str)"
   ]
  },
  {
   "cell_type": "code",
   "execution_count": 45,
   "metadata": {},
   "outputs": [],
   "source": [
    "for row in df_review_str:\n",
    "    blob = TextBlob(row)\n",
    "    bloblist_desc.append((row,blob.sentiment.polarity, blob.sentiment.subjectivity))\n",
    "    df_polarity_desc = pd.DataFrame(bloblist_desc, columns = ['Review','sentiment','polarity'])"
   ]
  },
  {
   "cell_type": "code",
   "execution_count": 46,
   "metadata": {},
   "outputs": [
    {
     "data": {
      "text/html": [
       "<div>\n",
       "<style scoped>\n",
       "    .dataframe tbody tr th:only-of-type {\n",
       "        vertical-align: middle;\n",
       "    }\n",
       "\n",
       "    .dataframe tbody tr th {\n",
       "        vertical-align: top;\n",
       "    }\n",
       "\n",
       "    .dataframe thead th {\n",
       "        text-align: right;\n",
       "    }\n",
       "</style>\n",
       "<table border=\"1\" class=\"dataframe\">\n",
       "  <thead>\n",
       "    <tr style=\"text-align: right;\">\n",
       "      <th></th>\n",
       "      <th>Review</th>\n",
       "      <th>sentiment</th>\n",
       "      <th>polarity</th>\n",
       "    </tr>\n",
       "  </thead>\n",
       "  <tbody>\n",
       "    <tr>\n",
       "      <th>0</th>\n",
       "      <td>dune is a great book and it along with its se...</td>\n",
       "      <td>0.043970</td>\n",
       "      <td>0.450813</td>\n",
       "    </tr>\n",
       "    <tr>\n",
       "      <th>1</th>\n",
       "      <td>having read the book a hundred years ago it t...</td>\n",
       "      <td>0.116452</td>\n",
       "      <td>0.555721</td>\n",
       "    </tr>\n",
       "    <tr>\n",
       "      <th>2</th>\n",
       "      <td>it is not a simple film but an adaptation of ...</td>\n",
       "      <td>0.194861</td>\n",
       "      <td>0.540575</td>\n",
       "    </tr>\n",
       "    <tr>\n",
       "      <th>3</th>\n",
       "      <td>its been amazing being back in cinemas after ...</td>\n",
       "      <td>0.288478</td>\n",
       "      <td>0.558986</td>\n",
       "    </tr>\n",
       "    <tr>\n",
       "      <th>4</th>\n",
       "      <td>i just reviewed the  movie  based on the same...</td>\n",
       "      <td>0.117374</td>\n",
       "      <td>0.558525</td>\n",
       "    </tr>\n",
       "  </tbody>\n",
       "</table>\n",
       "</div>"
      ],
      "text/plain": [
       "                                              Review  sentiment  polarity\n",
       "0   dune is a great book and it along with its se...   0.043970  0.450813\n",
       "1   having read the book a hundred years ago it t...   0.116452  0.555721\n",
       "2   it is not a simple film but an adaptation of ...   0.194861  0.540575\n",
       "3   its been amazing being back in cinemas after ...   0.288478  0.558986\n",
       "4   i just reviewed the  movie  based on the same...   0.117374  0.558525"
      ]
     },
     "execution_count": 46,
     "metadata": {},
     "output_type": "execute_result"
    }
   ],
   "source": [
    "df_polarity_desc.head()"
   ]
  },
  {
   "cell_type": "code",
   "execution_count": 51,
   "metadata": {},
   "outputs": [],
   "source": [
    "#TextBlob Sentimet Analysis\n",
    "def f(df_polarity_desc):\n",
    "    if df_polarity_desc['sentiment'] > 0:\n",
    "        val = \"Positive Review\"\n",
    "    elif df_polarity_desc['sentiment'] == 0:\n",
    "        val = \"Neutral Review\"\n",
    "    else:\n",
    "        val = \"Negative Review\"\n",
    "    return val"
   ]
  },
  {
   "cell_type": "code",
   "execution_count": 49,
   "metadata": {},
   "outputs": [
    {
     "data": {
      "image/png": "[encoded data removed]",
      "text/plain": [
       "<Figure size 720x720 with 1 Axes>"
      ]
     },
     "metadata": {},
     "output_type": "display_data"
    }
   ],
   "source": [
    "import seaborn as sns\n",
    "import matplotlib.pyplot as plt\n",
    "%matplotlib inline\n",
    "df_polarity_desc['Sentiment_Type'] = df_polarity_desc.apply(f, axis=1)\n",
    "\n",
    "plt.figure(figsize=(10,10))\n",
    "sns.set_style(\"whitegrid\")\n",
    "ax = sns.countplot(x=\"Sentiment_Type\", data=df_polarity_desc).set_title(\"Analysis of Polarity Review-Textblob\")"
   ]
  },
  {
   "cell_type": "code",
   "execution_count": null,
   "metadata": {},
   "outputs": [],
   "source": []
  }
 ],
 "metadata": {
  "kernelspec": {
   "display_name": "Python 3",
   "language": "python",
   "name": "python3"
  },
  "language_info": {
   "codemirror_mode": {
    "name": "ipython",
    "version": 3
   },
   "file_extension": ".py",
   "mimetype": "text/x-python",
   "name": "python",
   "nbconvert_exporter": "python",
   "pygments_lexer": "ipython3",
   "version": "3.6.5"
  }
 },
 "nbformat": 4,
 "nbformat_minor": 2
}
